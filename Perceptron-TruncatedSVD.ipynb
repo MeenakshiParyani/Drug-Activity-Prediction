{
 "cells": [
  {
   "cell_type": "code",
   "execution_count": 61,
   "metadata": {
    "collapsed": true
   },
   "outputs": [],
   "source": [
    "import numpy as np\n",
    "import pandas as pd\n",
    "import scipy.sparse as sp\n",
    "from numpy.linalg import norm\n",
    "from collections import Counter, defaultdict\n",
    "from scipy.sparse import csr_matrix\n",
    "import re\n",
    "import itertools"
   ]
  },
  {
   "cell_type": "code",
   "execution_count": null,
   "metadata": {
    "collapsed": true
   },
   "outputs": [],
   "source": []
  },
  {
   "cell_type": "code",
   "execution_count": 62,
   "metadata": {},
   "outputs": [
    {
     "name": "stdout",
     "output_type": "stream",
     "text": [
      "800\n",
      "800\n",
      "350\n"
     ]
    }
   ],
   "source": [
    "def readDocument(fileName):\n",
    "    X = []\n",
    "    y = []\n",
    "    with open(fileName, 'r') as file:   \n",
    "        for row in file:\n",
    "            dataset = row.split('\\t')\n",
    "            y.append(dataset[0])\n",
    "            if fileName == 'train.dat':\n",
    "                X.append(dataset[1])\n",
    "        return X, y\n",
    "trainX,trainY = readDocument('train.dat');\n",
    "testX = readDocument('test.dat')[1];\n",
    "print(len(trainX))\n",
    "print(len(trainY))\n",
    "print(len(testX))"
   ]
  },
  {
   "cell_type": "code",
   "execution_count": 63,
   "metadata": {},
   "outputs": [],
   "source": [
    "from scipy.sparse import coo_matrix\n",
    "from scipy.sparse import csc_matrix\n",
    "NUMBER_OF_PARAMETERS = 1000000\n",
    "\n",
    "def build_csc(lists):\n",
    "    i = 0\n",
    "    param_lists = []\n",
    "    row_lists = []\n",
    "    value_lists = []\n",
    "    for list in lists:\n",
    "        list = list.strip()\n",
    "        params = [int(n) for n in list.split(' ')] # list with string to list of nums, index is +1\n",
    "        row = [i] * len(params)\n",
    "        value = [True] * len(params)\n",
    "        param_lists.append(params)\n",
    "        row_lists.append(row)\n",
    "        value_lists.append(value)\n",
    "        i += 1\n",
    "    coo = create_coo(param_lists, row_lists, value_lists, i)\n",
    "    return csc_matrix(coo)\n",
    "def create_coo(param_lists, row_lists, value_lists, num_rows):\n",
    "    # in create COO\n",
    "    flattened_params = np.array(list(itertools.chain.from_iterable(param_lists)))\n",
    "    flattened_rows = np.array(list(itertools.chain.from_iterable(row_lists)))\n",
    "    flattened_values = np.array(list(itertools.chain.from_iterable(value_lists)))\n",
    "    sparse_coo = coo_matrix((flattened_values, (flattened_rows, flattened_params)), #three 1D lists\n",
    "                            shape=(num_rows, NUMBER_OF_PARAMETERS+1), #size of matrix, +1 bc of indexing,\n",
    "                            dtype=np.bool)  # creates a boolean compressed sparse row matrix\n",
    "\n",
    "    return sparse_coo"
   ]
  },
  {
   "cell_type": "code",
   "execution_count": 64,
   "metadata": {},
   "outputs": [],
   "source": [
    "# Create CSR matrix of train\n",
    "train_csc = build_csc(trainX)\n",
    "train_csr = csc_matrix.tocsr(train_csc);"
   ]
  },
  {
   "cell_type": "code",
   "execution_count": 65,
   "metadata": {},
   "outputs": [],
   "source": [
    "# l2 normalize train data\n",
    "from sklearn.preprocessing import normalize\n",
    "normTrain = normalize(train_csr);"
   ]
  },
  {
   "cell_type": "code",
   "execution_count": 66,
   "metadata": {},
   "outputs": [
    {
     "name": "stdout",
     "output_type": "stream",
     "text": [
      "[[ 0.16413083 -0.02458502 -0.02861892 ...,  0.06589946 -0.0123224\n",
      "   0.02621486]\n",
      " [ 0.15794806 -0.04374366 -0.01324644 ..., -0.03844571 -0.01790843\n",
      "   0.01515657]\n",
      " [ 0.15530871 -0.04291803 -0.02193003 ..., -0.00138607 -0.04488002\n",
      "   0.05201919]\n",
      " ..., \n",
      " [ 0.19181948  0.22907682 -0.05491128 ..., -0.04891582  0.17120991\n",
      "   0.01849363]\n",
      " [ 0.15542383 -0.04145921 -0.01634521 ..., -0.02390336 -0.01516989\n",
      "  -0.05902544]\n",
      " [ 0.1606224  -0.04787892 -0.0230894  ...,  0.00903995 -0.01697503\n",
      "   0.03652064]]\n"
     ]
    }
   ],
   "source": [
    "# Applying Dimesionality Reduction on train\n",
    "from sklearn.decomposition import TruncatedSVD\n",
    "pca = TruncatedSVD(n_components=8, random_state=42)\n",
    "XTrain = pca.fit_transform(normTrain.toarray());\n",
    "print(XTrain);"
   ]
  },
  {
   "cell_type": "code",
   "execution_count": 67,
   "metadata": {},
   "outputs": [],
   "source": [
    "# Create CSR matrix of test\n",
    "test_csc = build_csc(testX)\n",
    "test_csr = csc_matrix.tocsr(test_csc);"
   ]
  },
  {
   "cell_type": "code",
   "execution_count": 68,
   "metadata": {},
   "outputs": [],
   "source": [
    "# l2 normalize test data\n",
    "from sklearn.preprocessing import normalize\n",
    "normTest = normalize(test_csr);"
   ]
  },
  {
   "cell_type": "code",
   "execution_count": 69,
   "metadata": {},
   "outputs": [],
   "source": [
    "# Applying Dimesionality Reduction on test\n",
    "XTest = pca.transform(normTest.toarray());"
   ]
  },
  {
   "cell_type": "code",
   "execution_count": null,
   "metadata": {
    "collapsed": true
   },
   "outputs": [],
   "source": []
  },
  {
   "cell_type": "code",
   "execution_count": 70,
   "metadata": {},
   "outputs": [
    {
     "name": "stdout",
     "output_type": "stream",
     "text": [
      "350\n",
      "['0' '0' '1' '0' '0' '0' '0' '1' '0' '0' '0' '1' '0' '0' '0' '0' '0' '0'\n",
      " '0' '0' '0' '0' '0' '0' '1' '0' '0' '0' '0' '0' '0' '0' '0' '0' '0' '0'\n",
      " '0' '0' '0' '0' '0' '0' '0' '0' '0' '0' '0' '1' '0' '0' '1' '1' '0' '0'\n",
      " '0' '0' '0' '0' '0' '0' '0' '0' '1' '0' '0' '0' '0' '0' '0' '0' '0' '0'\n",
      " '0' '1' '1' '0' '0' '0' '0' '0' '0' '0' '0' '0' '1' '0' '0' '0' '0' '0'\n",
      " '0' '0' '0' '0' '0' '0' '0' '0' '1' '0' '0' '0' '0' '0' '0' '0' '0' '0'\n",
      " '0' '0' '0' '0' '0' '0' '0' '0' '1' '0' '0' '0' '0' '0' '0' '0' '0' '0'\n",
      " '0' '0' '0' '0' '0' '0' '0' '0' '0' '1' '0' '0' '0' '0' '0' '0' '0' '0'\n",
      " '0' '0' '0' '0' '0' '0' '0' '0' '0' '0' '0' '0' '0' '0' '0' '0' '1' '0'\n",
      " '0' '1' '0' '0' '1' '0' '0' '0' '0' '1' '0' '0' '0' '0' '0' '0' '0' '1'\n",
      " '0' '0' '0' '0' '0' '0' '0' '0' '0' '0' '1' '0' '0' '0' '0' '0' '0' '0'\n",
      " '0' '0' '0' '0' '0' '0' '0' '0' '1' '0' '0' '0' '0' '0' '0' '0' '1' '1'\n",
      " '0' '0' '0' '0' '0' '0' '0' '0' '0' '0' '0' '0' '0' '0' '0' '0' '0' '0'\n",
      " '0' '0' '0' '0' '0' '0' '0' '0' '0' '0' '0' '0' '0' '0' '0' '0' '0' '0'\n",
      " '0' '0' '1' '0' '0' '0' '0' '0' '0' '0' '0' '0' '0' '0' '0' '0' '0' '0'\n",
      " '1' '0' '0' '0' '0' '0' '0' '0' '0' '0' '0' '0' '0' '0' '0' '0' '0' '0'\n",
      " '0' '0' '0' '0' '0' '0' '0' '0' '0' '0' '0' '0' '0' '0' '0' '0' '1' '0'\n",
      " '0' '0' '1' '0' '0' '0' '0' '1' '1' '0' '1' '0' '0' '0' '0' '0' '0' '0'\n",
      " '0' '0' '0' '0' '0' '0' '0' '0' '0' '0' '0' '1' '1' '0' '0' '0' '0' '0'\n",
      " '1' '0' '0' '0' '0' '0' '0' '0']\n"
     ]
    }
   ],
   "source": [
    "# classify test data\n",
    "from sklearn.linear_model import Perceptron\n",
    "\n",
    "clf = Perceptron()\n",
    "clf = clf.fit(XTrain, trainY);\n",
    "\n",
    "predication = []\n",
    "\n",
    "prediction = clf.predict(XTest)\n",
    "print(len(prediction))\n",
    "print(prediction)"
   ]
  },
  {
   "cell_type": "code",
   "execution_count": 71,
   "metadata": {},
   "outputs": [
    {
     "name": "stdout",
     "output_type": "stream",
     "text": [
      "350\n",
      "33\n"
     ]
    }
   ],
   "source": [
    "# write the predictions in file\n",
    "output_file = open('data/out_trucatedSVD_Perceptron_8_42_re.dat', 'w')\n",
    "row_count = 0\n",
    "one_count = 0\n",
    "\n",
    "for n in prediction:\n",
    "    if n == '1':\n",
    "        one_count+=1\n",
    "        output_file.write('1\\n')\n",
    "    else:\n",
    "        output_file.write('0\\n')\n",
    "    row_count+=1\n",
    "    \n",
    "print(row_count)\n",
    "print(one_count)\n",
    "output_file.close();"
   ]
  },
  {
   "cell_type": "code",
   "execution_count": 72,
   "metadata": {},
   "outputs": [
    {
     "name": "stdout",
     "output_type": "stream",
     "text": [
      "350\n"
     ]
    }
   ],
   "source": [
    "#Verify file written\n",
    "with open(\"data/out_trucatedSVD_Perceptron_8_42_re.dat\", \"r\") as output:\n",
    "    output_data_lines = output.readlines()\n",
    "print(len(output_data_lines))\n"
   ]
  }
 ],
 "metadata": {
  "kernelspec": {
   "display_name": "Python 2",
   "language": "python",
   "name": "python2"
  },
  "language_info": {
   "codemirror_mode": {
    "name": "ipython",
    "version": 2
   },
   "file_extension": ".py",
   "mimetype": "text/x-python",
   "name": "python",
   "nbconvert_exporter": "python",
   "pygments_lexer": "ipython2",
   "version": "2.7.13"
  }
 },
 "nbformat": 4,
 "nbformat_minor": 2
}
