{
 "cells": [
  {
   "cell_type": "code",
   "execution_count": 1,
   "metadata": {
    "collapsed": true
   },
   "outputs": [],
   "source": [
    "# Importing essential libraries\n",
    "import numpy as np\n",
    "import pandas_ml as pdml\n",
    "import pandas as pd\n",
    "import scipy\n",
    "import sklearn\n",
    "import math"
   ]
  },
  {
   "cell_type": "code",
   "execution_count": 2,
   "metadata": {},
   "outputs": [
    {
     "name": "stdout",
     "output_type": "stream",
     "text": [
      "('Length of train data %d %d', 800)\n",
      "6062\n",
      "<class 'pandas.core.frame.DataFrame'>\n"
     ]
    }
   ],
   "source": [
    "from sklearn.utils import resample\n",
    "# Getting train data in dataframe\n",
    "trainData = pd.read_csv(\"data/train.dat\",sep='\\t',header=None,names=[\"active\",\"features\"])\n",
    "print('Length of train data %d %d', len(trainData));\n",
    "\n",
    "X_train = pd.DataFrame(trainData['features']);\n",
    "Y_train = pd.DataFrame(trainData['active']);\n",
    "\n",
    "split = lambda x: pd.Series([i for i in (x.split(' '))])\n",
    "X_train = X_train['features'].apply(split);\n",
    "\n",
    "for col in range(0,len(X_train.columns)):\n",
    "    X_train[col] = pd.to_numeric(X_train[col], errors='coerce', downcast='integer')\n",
    "\n",
    "X_train = X_train.fillna(0);\n",
    "\n",
    "input_cols = len(X_train.columns);\n",
    "print(input_cols);\n",
    "max_col = int(X_train.values.max())+1;\n",
    "max_row = int(len(X_train));\n",
    "\n",
    "matrix = [[0 for col in range(max_col)] for row in range(max_row)]\n",
    "\n",
    "for row in range(0, len(X_train)-1):\n",
    "    for col in range(0,input_cols-1):\n",
    "        colIndex = X_train[col][row];\n",
    "        if(colIndex!=0):\n",
    "            matrix[row][int(colIndex)] = 1;\n",
    "X = pd.DataFrame(matrix);\n",
    "print(type(X))\n",
    "y = Y_train\n",
    "# Construct the matrix\n",
    "\n",
    "\n",
    "# df_majority = pd.DataFrame(trainData[trainData.active==0])\n",
    "# df_minority = pd.DataFrame(trainData[trainData.active==1])\n",
    "\n",
    "# print('Majority class rows ', len(df_majority))\n",
    "# print('Minority class rows ', len(df_minority))\n",
    "\n",
    "# # Upsampling the minority class\n",
    "# df_minority_upsampled = resample(df_minority, replace=True, n_samples=722, random_state=123)\n",
    "\n",
    "# # Combine the resampled minority and majority samples\n",
    "# df_upsampled = pd.concat([df_majority, df_minority_upsampled])\n",
    "\n",
    "# y = df_upsampled.active\n",
    "# X = df_upsampled.drop('active', axis=1)\n",
    "# print(X)"
   ]
  },
  {
   "cell_type": "code",
   "execution_count": 3,
   "metadata": {},
   "outputs": [
    {
     "name": "stdout",
     "output_type": "stream",
     "text": [
      "RangeIndex(start=0, stop=100001, step=1)\n"
     ]
    }
   ],
   "source": [
    "print(X.columns)"
   ]
  },
  {
   "cell_type": "code",
   "execution_count": 4,
   "metadata": {
    "scrolled": true
   },
   "outputs": [
    {
     "name": "stdout",
     "output_type": "stream",
     "text": [
      "[[  3.71553850e-02   6.27793823e-04  -1.09993390e-03 ...,   1.80549881e-03\n",
      "    2.69304391e-02   2.68981596e-03]\n",
      " [  1.30843680e-02  -3.50564112e-05  -8.54004774e-05 ...,   1.97898181e-03\n",
      "    3.84321930e-02   9.05316238e-04]\n",
      " [  2.26799243e-02  -1.89497716e-05  -1.11841177e-04 ...,   3.07407075e-03\n",
      "    1.83683291e-03   2.60357189e-03]\n",
      " ..., \n",
      " [  2.17078542e-02  -3.12505873e-03   4.09867563e-02 ...,   2.20957249e-03\n",
      "   -1.01639036e-03   2.74819087e-03]\n",
      " [  3.71599056e-02  -6.52626679e-04   1.32682845e-04 ...,   2.12881483e-03\n",
      "   -1.91523368e-03  -5.52814127e-02]\n",
      " [  0.00000000e+00   0.00000000e+00   0.00000000e+00 ...,   0.00000000e+00\n",
      "    0.00000000e+00   0.00000000e+00]]\n"
     ]
    }
   ],
   "source": [
    "# Applying Dimesionality Reduction\n",
    "from sklearn.decomposition import SparsePCA\n",
    "pca = SparsePCA(n_components=100)\n",
    "\n",
    "# print(X);\n",
    "# split = lambda x: pd.Series([i for i in (x.split(' '))])\n",
    "# X = X['features'].apply(split)\n",
    "# print(X);\n",
    "# X = X[0:11];\n",
    "\n",
    "# for col in range(0,len(X.columns)):\n",
    "#     X[col] = pd.to_numeric(X[col], errors='coerce')\n",
    "# X = X.fillna(0)\n",
    "X = pca.fit_transform(X);\n",
    "print(X);\n"
   ]
  },
  {
   "cell_type": "code",
   "execution_count": 5,
   "metadata": {},
   "outputs": [
    {
     "name": "stdout",
     "output_type": "stream",
     "text": [
      "4858\n",
      "<class 'pandas.core.frame.DataFrame'>\n",
      "[[  5.67026922e-02   6.85191906e-03  -1.70610128e-03 ...,   2.70400961e-03\n",
      "    4.02934643e-02   3.95098818e-03]\n",
      " [  1.99680043e-02  -3.82615571e-04  -1.32464200e-04 ...,   2.96382685e-03\n",
      "    5.75024487e-02   1.32979126e-03]\n",
      " [  3.46117465e-02  -2.06823158e-04  -1.73476220e-04 ...,   4.60388941e-03\n",
      "    2.74827904e-03   3.82430691e-03]\n",
      " ..., \n",
      " [  4.88541905e-02  -1.88181007e-03  -1.14943243e-05 ...,   1.81743737e-03\n",
      "   -3.50844679e-03  -8.68481421e-02]\n",
      " [  4.48893501e-02  -3.94596989e-03  -3.72748898e-04 ...,   2.58051119e-03\n",
      "    5.74928295e-02   8.69352868e-04]\n",
      " [  0.00000000e+00   0.00000000e+00   0.00000000e+00 ...,   0.00000000e+00\n",
      "    0.00000000e+00   0.00000000e+00]]\n"
     ]
    },
    {
     "name": "stderr",
     "output_type": "stream",
     "text": [
      "/Users/meenakshiparyani/anaconda/lib/python2.7/site-packages/ipykernel_launcher.py:36: DataConversionWarning: A column-vector y was passed when a 1d array was expected. Please change the shape of y to (n_samples, ), for example using ravel().\n"
     ]
    },
    {
     "name": "stdout",
     "output_type": "stream",
     "text": [
      "350\n",
      "[0 0 0 0 0 0 0 0 0 0 0 0 0 0 0 0 0 0 1 0 0 0 0 0 0 0 0 1 0 0 0 1 1 1 0 0 0\n",
      " 0 0 0 0 0 0 0 0 0 0 0 0 0 0 0 0 0 0 0 0 0 0 0 0 0 0 0 0 0 0 0 0 0 0 1 0 0\n",
      " 0 0 0 1 0 0 0 0 0 0 0 0 0 0 0 0 0 0 0 0 0 0 0 0 0 0 0 0 0 0 0 0 0 0 0 0 0\n",
      " 0 0 0 0 0 0 0 0 0 0 0 0 0 0 0 0 0 0 0 0 0 0 0 0 0 0 0 0 0 0 0 0 0 0 0 0 0\n",
      " 0 0 0 0 0 0 0 0 0 0 0 0 0 0 0 0 0 0 0 0 0 0 1 0 0 0 0 0 0 0 0 0 0 0 0 0 0\n",
      " 0 0 0 0 0 0 0 0 0 0 0 0 0 0 1 0 0 0 0 0 0 1 0 0 0 0 0 0 0 1 0 0 0 0 0 0 0\n",
      " 0 0 0 0 0 0 0 0 0 0 0 0 0 0 0 0 0 0 0 0 0 0 0 0 0 0 0 0 0 0 0 1 0 0 0 0 0\n",
      " 0 0 0 0 1 0 0 0 0 0 1 0 0 0 0 0 0 0 0 0 0 0 0 0 0 0 0 0 0 0 0 0 0 0 1 0 0\n",
      " 1 0 0 1 0 0 0 0 0 0 0 0 0 0 0 0 0 0 1 0 0 0 0 0 0 0 0 0 0 0 0 0 0 0 0 1 0\n",
      " 0 0 0 0 0 0 0 0 0 0 0 0 0 0 0 0 0]\n"
     ]
    }
   ],
   "source": [
    "# Applying Dimesionality Reduction on test\n",
    "testData = pd.read_csv(\"data/test.dat\",sep='\\t',header=None,names=[\"features\"])\n",
    "dfTest = pd.DataFrame(testData);\n",
    "\n",
    "split = lambda x: pd.Series([i for i in (x.split(' '))])\n",
    "X_test = dfTest['features'].apply(split);\n",
    "\n",
    "for col in range(0,len(X_test.columns)):\n",
    "    X_test[col] = pd.to_numeric(X_test[col], errors='coerce', downcast='integer')\n",
    "\n",
    "X_test = X_test.fillna(0);\n",
    "\n",
    "input_cols_test = len(X_test.columns);\n",
    "print(input_cols_test);\n",
    "max_col_test = int(X_test.values.max())+1;\n",
    "max_row_test = int(len(X_test));\n",
    "\n",
    "testMatrix = [[0 for col in range(max_col_test)] for row in range(max_row_test)]\n",
    "\n",
    "for row in range(0, len(X_test)-1):\n",
    "    for col in range(0,input_cols_test-1):\n",
    "        colIndex = X_train[col][row];\n",
    "        if(colIndex!=0):\n",
    "            testMatrix[row][int(colIndex)] = 1;\n",
    "X_test = pd.DataFrame(testMatrix);\n",
    "print(type(X_test))\n",
    "\n",
    "X_test = pca.transform(X_test);\n",
    "\n",
    "print(X_test);\n",
    "\n",
    "\n",
    "from sklearn.neighbors import KNeighborsClassifier\n",
    "\n",
    "clf = KNeighborsClassifier(n_neighbors=15)\n",
    "clf = clf.fit(X, y)\n",
    "\n",
    "predication = []\n",
    "\n",
    "prediction = clf.predict(X_test)\n",
    "print(len(prediction))\n",
    "print(prediction)"
   ]
  },
  {
   "cell_type": "code",
   "execution_count": 6,
   "metadata": {},
   "outputs": [
    {
     "name": "stdout",
     "output_type": "stream",
     "text": [
      "350\n",
      "19\n"
     ]
    }
   ],
   "source": [
    "\n",
    "# write the predictions in file\n",
    "output_file = open('data/out_sparsePCA_KNNClassifier.dat', 'w')\n",
    "row_count = 0\n",
    "one_count = 0\n",
    "\n",
    "for n in prediction:\n",
    "    if n == 1:\n",
    "        one_count+=1\n",
    "        output_file.write('1\\n')\n",
    "    else:\n",
    "        output_file.write('0\\n')\n",
    "    row_count+=1\n",
    "    \n",
    "print(row_count)\n",
    "print(one_count)\n",
    "output_file.close();"
   ]
  },
  {
   "cell_type": "code",
   "execution_count": 7,
   "metadata": {},
   "outputs": [
    {
     "name": "stdout",
     "output_type": "stream",
     "text": [
      "350\n"
     ]
    }
   ],
   "source": [
    "with open(\"data/out_sparsePCA_KNNClassifier.dat\", \"r\") as output:\n",
    "    output_data_lines = output.readlines()\n",
    "print(len(output_data_lines))"
   ]
  }
 ],
 "metadata": {
  "kernelspec": {
   "display_name": "Python 2",
   "language": "python",
   "name": "python2"
  },
  "language_info": {
   "codemirror_mode": {
    "name": "ipython",
    "version": 2
   },
   "file_extension": ".py",
   "mimetype": "text/x-python",
   "name": "python",
   "nbconvert_exporter": "python",
   "pygments_lexer": "ipython2",
   "version": "2.7.13"
  }
 },
 "nbformat": 4,
 "nbformat_minor": 2
}
