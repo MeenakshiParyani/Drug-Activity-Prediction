{
 "cells": [
  {
   "cell_type": "code",
   "execution_count": 1,
   "metadata": {
    "collapsed": true
   },
   "outputs": [],
   "source": [
    "# Importing essential libraries\n",
    "import numpy as np\n",
    "import pandas_ml as pdml\n",
    "import pandas as pd\n",
    "\n"
   ]
  },
  {
   "cell_type": "code",
   "execution_count": 6,
   "metadata": {},
   "outputs": [
    {
     "name": "stdout",
     "output_type": "stream",
     "text": [
      "('Length of train data %d', 800)\n",
      "350\n",
      "('Majority class rows ', 722)\n",
      "('Minority class rows ', 78)\n"
     ]
    }
   ],
   "source": [
    "# Getting train data in dataframe\n",
    "x_train = pd.read_csv(\"data/train.dat\",sep='\\t',header=None,names=[\"active\",\"features\"])\n",
    "dfTrain = pdml.ModelFrame(x_train.to_dict(orient='list'))\n",
    "print('Length of train data %d', len(dfTrain))\n",
    "\n",
    "# Getting test data in dataframe\n",
    "x_test = pd.read_csv(\"data/test.dat\",sep='\\t',header=None,names=[\"active\",\"features\"])\n",
    "dfTest = pdml.ModelFrame(x_test.to_dict(orient='list'))\n",
    "print (len(dfTest))\n",
    "\n",
    "df_majority = dfTrain[dfTrain.active==0]\n",
    "df_minority = dfTrain[dfTrain.active==1]\n",
    "\n",
    "print('Majority class rows ', len(df_majority))\n",
    "print('Minority class rows ', len(df_minority))"
   ]
  },
  {
   "cell_type": "code",
   "execution_count": 3,
   "metadata": {
    "collapsed": true
   },
   "outputs": [],
   "source": [
    "# Applying Dimesionality Reduction"
   ]
  }
 ],
 "metadata": {
  "kernelspec": {
   "display_name": "Python 2",
   "language": "python",
   "name": "python2"
  },
  "language_info": {
   "codemirror_mode": {
    "name": "ipython",
    "version": 2
   },
   "file_extension": ".py",
   "mimetype": "text/x-python",
   "name": "python",
   "nbconvert_exporter": "python",
   "pygments_lexer": "ipython2",
   "version": "2.7.13"
  }
 },
 "nbformat": 4,
 "nbformat_minor": 2
}
