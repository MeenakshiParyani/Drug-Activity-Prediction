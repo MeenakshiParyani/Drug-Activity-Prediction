{
 "cells": [
  {
   "cell_type": "code",
   "execution_count": 19,
   "metadata": {
    "collapsed": true
   },
   "outputs": [],
   "source": [
    "# Importing essential libraries\n",
    "import numpy as np\n",
    "import pandas_ml as pdml\n",
    "import pandas as pd\n",
    "import scipy\n",
    "import sklearn"
   ]
  },
  {
   "cell_type": "code",
   "execution_count": 20,
   "metadata": {},
   "outputs": [
    {
     "name": "stdout",
     "output_type": "stream",
     "text": [
      "('Majority class rows ', 722)\n",
      "('Minority class rows ', 78)\n",
      "                                              features\n",
      "0    191 367 614 634 711 1202 1220 1311 1472 1730 2...\n",
      "1    118 307 367 478 505 512 807 878 939 1024 1095 ...\n",
      "2    10 184 284 297 320 375 445 588 658 1108 1411 1...\n",
      "3    87 149 433 704 711 892 988 1056 1070 1234 1246...\n",
      "4    84 118 279 316 435 505 584 629 849 1029 1082 1...\n",
      "5    144 354 383 412 444 447 587 671 786 843 951 98...\n",
      "6    53 84 91 99 310 462 764 936 1049 1088 1106 138...\n",
      "7    37 150 535 548 660 746 1176 1208 1289 1326 147...\n",
      "8    44 77 195 324 336 349 505 548 572 698 760 1078...\n",
      "9    13 96 107 209 354 400 433 589 619 1021 1071 11...\n",
      "10   75 140 141 150 153 271 273 303 307 330 353 376...\n",
      "11   6 53 329 430 445 520 525 687 741 1245 1351 153...\n",
      "12   92 102 207 286 408 426 547 587 724 725 776 844...\n",
      "13   235 278 379 464 599 671 831 862 1017 1141 1214...\n",
      "14   82 158 444 474 546 634 651 754 796 847 1171 15...\n",
      "15   35 157 379 512 675 796 833 914 1008 1040 1152 ...\n",
      "16   151 549 1001 1031 1079 1101 1289 1329 1384 173...\n",
      "17   32 116 235 410 779 1079 1152 1205 1222 1546 16...\n",
      "19   22 336 379 514 707 738 764 820 852 1050 1236 1...\n",
      "20   85 184 212 510 575 611 666 716 755 912 962 964...\n",
      "21   34 231 1095 1139 1176 1293 1297 1378 1739 1861...\n",
      "22   44 151 284 433 447 578 620 682 742 804 816 906...\n",
      "23   73 150 269 286 386 400 402 664 743 892 1043 11...\n",
      "24   44 236 400 449 655 672 847 856 1149 1155 1190 ...\n",
      "25   13 633 715 816 882 889 985 1471 1698 2027 2064...\n",
      "26   147 166 191 231 284 347 451 506 609 717 965 99...\n",
      "28   94 406 575 998 1058 1153 1176 1185 1207 1364 1...\n",
      "29   74 117 147 316 373 375 495 519 721 841 855 870...\n",
      "30   26 78 150 152 307 327 384 409 422 505 943 1112...\n",
      "32   68 389 412 684 862 989 1210 1214 1560 1572 208...\n",
      "..                                                 ...\n",
      "380  1 39 149 179 286 355 400 412 479 508 700 950 1...\n",
      "483  74 171 369 373 461 627 643 696 719 818 862 868...\n",
      "269  87 147 183 191 211 218 336 412 818 928 1096 13...\n",
      "178  39 103 104 211 269 379 521 565 859 1200 1272 1...\n",
      "336  119 290 354 433 551 563 685 854 890 975 1149 1...\n",
      "281  3 13 19 38 67 74 145 146 160 200 249 270 299 3...\n",
      "165  84 354 592 607 693 711 1071 1129 1250 1367 137...\n",
      "253  24 412 547 1220 1256 1417 1439 1940 1978 1991 ...\n",
      "374  33 117 232 276 401 412 524 819 837 941 974 111...\n",
      "799  190 191 354 412 425 433 783 915 1070 1642 1730...\n",
      "380  1 39 149 179 286 355 400 412 479 508 700 950 1...\n",
      "565  71 150 412 462 497 586 819 934 937 1083 1098 1...\n",
      "452  43 158 333 374 437 480 525 843 969 1048 1211 1...\n",
      "434  107 165 212 394 412 578 1020 1043 1153 1252 15...\n",
      "239  292 351 394 474 573 639 780 804 816 1298 1591 ...\n",
      "163  27 52 180 284 383 463 875 1064 1079 1086 1147 ...\n",
      "336  119 290 354 433 551 563 685 854 890 975 1149 1...\n",
      "314  158 367 433 531 639 794 866 978 1048 1058 1149...\n",
      "610  58 178 199 274 412 433 447 458 816 833 879 950...\n",
      "378  39 120 345 400 412 558 729 1153 1176 1220 1287...\n",
      "791  412 436 447 458 520 715 794 985 1110 1224 1303...\n",
      "239  292 351 394 474 573 639 780 804 816 1298 1591 ...\n",
      "297  12 37 72 75 77 104 108 126 132 166 169 189 238...\n",
      "458  195 412 433 586 973 1011 1040 1248 1510 1618 1...\n",
      "379  52 126 412 463 568 589 866 974 975 1001 1139 1...\n",
      "230  5 84 354 433 509 538 658 720 875 914 1078 1103...\n",
      "715  68 180 330 376 412 611 645 733 876 948 1071 12...\n",
      "61   7 115 231 383 412 428 460 474 500 719 740 775 ...\n",
      "572  37 65 77 165 300 445 592 696 962 1077 1303 162...\n",
      "239  292 351 394 474 573 639 780 804 816 1298 1591 ...\n",
      "\n",
      "[1444 rows x 1 columns]\n"
     ]
    }
   ],
   "source": [
    "from sklearn.utils import resample\n",
    "# Getting train data in dataframe\n",
    "trainData = pd.read_csv(\"data/train.dat\",sep='\\t',header=None,names=[\"active\",\"features\"])\n",
    "dfTrain = pdml.ModelFrame(trainData.to_dict(orient='list'))\n",
    "X_train = trainData['features']\n",
    "Y_train = trainData['active']\n",
    "# print('Length of train data %d %d', len(XTrain), len(YTrain))\n",
    "\n",
    "# # Getting test data in dataframe\n",
    "# testData = pd.read_csv(\"data/test.dat\",sep='\\t',header=None,names=[\"active\",\"features\"])\n",
    "# dfTest = pdml.ModelFrame(testData.to_dict(orient='list'))\n",
    "# print (len(dfTest))\n",
    "\n",
    "df_majority = pd.DataFrame(trainData[dfTrain.active==0])\n",
    "df_minority = pd.DataFrame(trainData[dfTrain.active==1])\n",
    "\n",
    "print('Majority class rows ', len(df_majority))\n",
    "print('Minority class rows ', len(df_minority))\n",
    "# print(df_minority)\n",
    "\n",
    "# Upsampling the minority class\n",
    "df_minority_upsampled = resample(df_minority, replace=True, n_samples=722, random_state=123)\n",
    "# print(df_minority_upsampled)\n",
    "\n",
    "# Combine the resampled minority and majority samples\n",
    "df_upsampled = pd.concat([df_majority, df_minority_upsampled])\n",
    "# print(df_upsampled)\n",
    "\n",
    "# df_upsampled.active.value_counts()\n",
    "\n",
    "y = df_upsampled.active\n",
    "X = df_upsampled.drop('active', axis=1)\n",
    " \n",
    "print(X)"
   ]
  },
  {
   "cell_type": "code",
   "execution_count": 21,
   "metadata": {},
   "outputs": [],
   "source": [
    "# # dfTrain = dfTrain.fillna(0)\n",
    "# dfX = dfTrain.features.str.split(' ')\n",
    "# dfY = dfTrain.active\n",
    "# print(type(dfX))\n",
    "# print(type(dfY))\n",
    "# samplerX = dfTrain.imbalance.over_sampling.SMOTE()\n",
    "# print(samplerX)\n",
    "# sampled = dfTrain.fit_sample(samplerX)"
   ]
  },
  {
   "cell_type": "code",
   "execution_count": 22,
   "metadata": {
    "scrolled": true
   },
   "outputs": [
    {
     "name": "stdout",
     "output_type": "stream",
     "text": [
      "<class 'pandas.core.frame.DataFrame'>\n",
      "<class 'pandas.core.frame.DataFrame'>\n",
      "<type 'numpy.float64'>\n",
      "[ 191.  367.  614. ...,    0.    0.    0.]\n",
      "[[ -3.93835357e+05   2.64297972e+05  -1.34980280e+05 ...,  -1.60069542e+05\n",
      "   -7.95481420e+04   1.07757477e+05]\n",
      " [ -3.73249672e+05   3.39150314e+05  -2.71843997e+05 ...,   1.80625592e+05\n",
      "    7.37161298e+04  -9.07171805e+04]\n",
      " [ -3.66246680e+05   3.40583904e+05  -2.76970826e+05 ...,   2.07211861e+05\n",
      "    8.82800429e+04  -1.19724415e+05]\n",
      " ..., \n",
      " [  1.32473450e+06  -8.48116988e+05  -9.08487661e+05 ...,  -6.43055441e+04\n",
      "   -3.99857335e+05  -2.03451806e+05]\n",
      " [ -3.90473903e+05   3.30928225e+05  -2.50952392e+05 ...,   8.88071505e+04\n",
      "    2.42626035e+04   8.07942596e+02]\n",
      " [ -3.63067349e+05   3.36908480e+05  -2.71134842e+05 ...,   1.84601510e+05\n",
      "    7.60113824e+04  -9.64097709e+04]]\n"
     ]
    }
   ],
   "source": [
    "# Applying Dimesionality Reduction\n",
    "from sklearn.decomposition import SparsePCA\n",
    "from sklearn.linear_model import LogisticRegression as reg\n",
    "\n",
    "pca = SparsePCA(n_components=2)\n",
    "X = X.fillna(0)\n",
    "\n",
    "# X[\"features\"] = X[\"features\"].str.lower().str.split(\" \")\n",
    "# print(X)\n",
    "\n",
    "split = lambda x: pd.Series([i for i in (x.split(' '))])\n",
    "X = X['features'].apply(split)\n",
    "# X = X.fillna(0.0, inplace=True)\n",
    "# print(X)\n",
    "# X_train = scipy.sparse.csr_matrix(X_train.values)\n",
    "# print(X_train)\n",
    "# X_train.values\n",
    "\n",
    "# print(X)\n",
    "X.to_csv('data/df.csv', sep='\\t')\n",
    "print(type(X))\n",
    "for col in range(0,len(X.columns)):\n",
    "    X[col] = pd.to_numeric(X[col], errors='coerce')\n",
    "print(type(X))\n",
    "X = X.fillna(0)\n",
    "\n",
    "print(type(X[1443][0]))\n",
    "print(np.asarray(X.values[0]))\n",
    "pca = sklearn.decomposition.PCA(n_components = 10)\n",
    "pca.fit(X)\n",
    "X = pca.transform(X);\n",
    "\n",
    "# reg().fit(X,y);\n",
    "# print(X);\n",
    "\n",
    "# pd.DataFrame(pca.fit_transform(np.asarray(X)), columns=['PCA%i' % i for i in range(15)], index=X.index);\n",
    "print(X);\n"
   ]
  },
  {
   "cell_type": "code",
   "execution_count": 25,
   "metadata": {},
   "outputs": [
    {
     "name": "stdout",
     "output_type": "stream",
     "text": [
      "<class 'pandas.core.frame.DataFrame'>\n",
      "<class 'pandas.core.frame.DataFrame'>\n",
      "[[   41907.66324379  -434452.41138859   314648.53763425 ...,\n",
      "     -8957.19833875   149604.36437702  -101713.22534522]\n",
      " [ -295168.36365677  -131527.79628972   157225.15720936 ...,\n",
      "     46897.02954052  -147307.7324074    107017.72022107]\n",
      " [ 1106124.14815184  -175486.87775181  -441567.59187632 ...,\n",
      "    226964.71397831    60347.33532318  -103385.98596405]\n",
      " ..., \n",
      " [ -452172.41497017   146009.07478413   -88979.11089927 ...,\n",
      "    -65178.9265848    101248.76026856   -52755.65793586]\n",
      " [  538254.21507845  -562612.86183911   106654.18159528 ...,\n",
      "   -101886.8371911    -53446.95092548   116944.73305441]\n",
      " [ -480913.36190721   276273.17655568  -205052.66654811 ...,\n",
      "     27858.40416762   -31869.09881891    -3480.66469098]]\n",
      "350\n",
      "[0 0 0 0 0 0 0 0 0 0 0 0 0 0 0 0 0 0 0 0 0 0 0 0 0 0 0 0 0 0 0 0 0 0 0 0 0\n",
      " 0 0 0 0 1 0 0 0 0 0 0 0 0 0 0 0 0 0 0 0 0 0 0 0 0 0 0 0 0 0 0 0 0 0 1 0 0\n",
      " 0 0 0 0 0 0 0 0 0 0 1 0 0 0 0 0 0 0 0 0 0 0 1 0 0 0 0 0 0 0 0 0 0 0 0 0 0\n",
      " 0 0 0 0 0 0 0 0 0 0 0 0 0 0 0 0 0 0 0 0 0 0 0 0 0 0 0 0 0 0 0 0 1 0 0 0 0\n",
      " 0 0 0 0 0 0 0 0 0 0 0 0 0 0 0 0 0 0 0 0 0 0 0 0 0 0 0 0 0 0 0 0 0 0 0 0 0\n",
      " 0 0 0 0 0 0 0 0 0 0 0 0 0 0 0 0 0 0 0 0 0 0 0 0 0 0 0 0 0 0 0 0 0 0 0 0 0\n",
      " 0 0 1 0 0 0 0 0 0 0 0 0 0 0 0 0 0 0 1 0 0 0 0 0 0 0 1 0 0 0 0 0 0 0 0 0 0\n",
      " 0 0 0 0 0 0 0 0 0 0 0 0 0 0 0 0 0 0 0 0 0 0 0 0 0 0 0 0 0 0 0 0 0 0 0 0 0\n",
      " 0 0 0 0 0 0 0 0 0 0 0 0 0 0 0 0 0 0 1 0 0 0 0 0 0 0 0 0 0 0 0 0 0 0 0 0 0\n",
      " 0 0 0 0 0 0 0 0 0 0 0 0 0 0 0 0 0]\n"
     ]
    }
   ],
   "source": [
    "# Applying Dimesionality Reduction on test\n",
    "testData = pd.read_csv(\"data/test.dat\",sep='\\t',header=None,names=[\"features\"])\n",
    "dfTest = pd.DataFrame(testData);\n",
    "\n",
    "split = lambda x: pd.Series([i for i in (x.split(' '))])\n",
    "dfTest = dfTest['features'].apply(split)\n",
    "\n",
    "print(type(dfTest))\n",
    "for col in range(0,len(dfTest.columns)):\n",
    "    dfTest[col] = pd.to_numeric(dfTest[col], errors='coerce')\n",
    "print(type(dfTest))\n",
    "dfTest = dfTest.fillna(0)\n",
    "\n",
    "pca.fit(dfTest)\n",
    "dfTest = pca.transform(dfTest);\n",
    "\n",
    "print(dfTest);\n",
    "\n",
    "\n",
    "from sklearn.ensemble import ExtraTreesClassifier\n",
    "\n",
    "clf = ExtraTreesClassifier()\n",
    "clf = clf.fit(X, y)\n",
    "clf.feature_importances_\n",
    "\n",
    "predication = []\n",
    "\n",
    "prediction = clf.predict(dfTest)\n",
    "print(len(prediction))\n",
    "print(prediction)"
   ]
  },
  {
   "cell_type": "code",
   "execution_count": 35,
   "metadata": {},
   "outputs": [
    {
     "name": "stdout",
     "output_type": "stream",
     "text": [
      "350\n",
      "9\n"
     ]
    }
   ],
   "source": [
    "\n",
    "# write the predictions in file\n",
    "output_file = open('data/out_sparsePCA_ExtraTressClassifier.dat', 'w')\n",
    "row_count = 0\n",
    "one_count = 0\n",
    "\n",
    "for n in prediction:\n",
    "    if n == 1:\n",
    "        one_count+=1\n",
    "        output_file.write('1\\n')\n",
    "    else:\n",
    "        output_file.write('0\\n')\n",
    "    row_count+=1\n",
    "    \n",
    "print(row_count)\n",
    "print(one_count)"
   ]
  },
  {
   "cell_type": "code",
   "execution_count": 37,
   "metadata": {},
   "outputs": [
    {
     "name": "stdout",
     "output_type": "stream",
     "text": [
      "350\n"
     ]
    }
   ],
   "source": [
    "with open(\"data/out_sparsePCA_ExtraTressClassifier.dat\", \"r\") as output:\n",
    "    output_data_lines = output.readlines()\n",
    "print(len(output_data_lines))"
   ]
  }
 ],
 "metadata": {
  "kernelspec": {
   "display_name": "Python 2",
   "language": "python",
   "name": "python2"
  },
  "language_info": {
   "codemirror_mode": {
    "name": "ipython",
    "version": 2
   },
   "file_extension": ".py",
   "mimetype": "text/x-python",
   "name": "python",
   "nbconvert_exporter": "python",
   "pygments_lexer": "ipython2",
   "version": "2.7.13"
  }
 },
 "nbformat": 4,
 "nbformat_minor": 2
}
